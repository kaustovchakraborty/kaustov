{
 "cells": [
  {
   "cell_type": "markdown",
   "metadata": {},
   "source": [
    "hours wage"
   ]
  },
  {
   "cell_type": "code",
   "execution_count": null,
   "metadata": {},
   "outputs": [],
   "source": [
    "x=input(\"enter the working hours\\n\")\n",
    "y=input(\"enter the rate\\n\")\n",
    "try:\n",
    "    if x>40:\n",
    "        rate= 40*y+1.5*10*(x-40)\n",
    "        print (rate)\n",
    "    elif x<=40:\n",
    "        rate=x*y\n",
    "        print(rate)\n",
    "except:\n",
    "    print(\"enter a number\")\n",
    "    "
   ]
  }
 ],
 "metadata": {
  "kernelspec": {
   "display_name": "Python 3",
   "language": "python",
   "name": "python3"
  },
  "language_info": {
   "codemirror_mode": {
    "name": "ipython",
    "version": 3
   },
   "file_extension": ".py",
   "mimetype": "text/x-python",
   "name": "python",
   "nbconvert_exporter": "python",
   "pygments_lexer": "ipython3",
   "version": "3.7.0"
  }
 },
 "nbformat": 4,
 "nbformat_minor": 2
}
